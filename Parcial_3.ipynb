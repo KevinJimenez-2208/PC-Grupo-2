{
  "nbformat": 4,
  "nbformat_minor": 0,
  "metadata": {
    "colab": {
      "provenance": []
    },
    "kernelspec": {
      "name": "python3",
      "display_name": "Python 3"
    },
    "language_info": {
      "name": "python"
    }
  },
  "cells": [
    {
      "cell_type": "code",
      "execution_count": null,
      "metadata": {
        "id": "TwckOkdDx4XA"
      },
      "outputs": [],
      "source": [
        "#PARCIAL 3\n",
        "print(\"holaaaa\")"
      ]
    },
    {
      "cell_type": "code",
      "source": [
        "print(\"Prueba\")"
      ],
      "metadata": {
        "colab": {
          "base_uri": "https://localhost:8080/"
        },
        "id": "jNu8syhd3H-9",
        "outputId": "b79f0a26-21e4-49bb-c440-5e4274a8ae0e"
      },
      "execution_count": 1,
      "outputs": [
        {
          "output_type": "stream",
          "name": "stdout",
          "text": [
            "Prueba\n"
          ]
        }
      ]
    }
  ]
}